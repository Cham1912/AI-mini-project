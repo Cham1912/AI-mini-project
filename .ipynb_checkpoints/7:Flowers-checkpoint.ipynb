{
 "cells": [
  {
   "cell_type": "code",
   "execution_count": 1,
   "id": "b6104849",
   "metadata": {},
   "outputs": [],
   "source": [
    "import numpy as np\n",
    "import pandas as pd\n",
    "import matplotlib.pyplot as plt\n",
    "import os\n",
    "import seaborn as sns; sns.set()\n",
    "import os\n",
    "import sklearn as sk\n",
    "\n",
    "from sklearn import metrics\n",
    "from scipy import stats \n",
    "\n",
    "from sklearn.ensemble import RandomForestClassifier\n",
    "from sklearn.metrics import accuracy_score, confusion_matrix, precision_score, recall_score, ConfusionMatrixDisplay\n",
    "from sklearn.model_selection import RandomizedSearchCV, train_test_split\n",
    "from scipy.stats import randint\n",
    "\n",
    "from sklearn.tree import export_graphviz\n",
    "from IPython.display import Image\n",
    "import graphviz\n",
    "\n",
    "\n",
    "%matplotlib inline "
   ]
  },
  {
   "cell_type": "code",
   "execution_count": 2,
   "id": "30e7676d",
   "metadata": {},
   "outputs": [],
   "source": [
    "flower=pd.read_csv(\"6:IRIS_ Flower_Dataset.csv\") #importing the dataset"
   ]
  },
  {
   "cell_type": "code",
   "execution_count": 3,
   "id": "9591dbdd",
   "metadata": {},
   "outputs": [
    {
     "data": {
      "text/html": [
       "<div>\n",
       "<style scoped>\n",
       "    .dataframe tbody tr th:only-of-type {\n",
       "        vertical-align: middle;\n",
       "    }\n",
       "\n",
       "    .dataframe tbody tr th {\n",
       "        vertical-align: top;\n",
       "    }\n",
       "\n",
       "    .dataframe thead th {\n",
       "        text-align: right;\n",
       "    }\n",
       "</style>\n",
       "<table border=\"1\" class=\"dataframe\">\n",
       "  <thead>\n",
       "    <tr style=\"text-align: right;\">\n",
       "      <th></th>\n",
       "      <th>sepal_length</th>\n",
       "      <th>sepal_width</th>\n",
       "      <th>petal_length</th>\n",
       "      <th>petal_width</th>\n",
       "      <th>species_Iris-setosa</th>\n",
       "      <th>species_Iris-versicolor</th>\n",
       "      <th>species_Iris-virginica</th>\n",
       "    </tr>\n",
       "  </thead>\n",
       "  <tbody>\n",
       "    <tr>\n",
       "      <th>sepal_length</th>\n",
       "      <td>1.000000</td>\n",
       "      <td>-0.109369</td>\n",
       "      <td>0.871754</td>\n",
       "      <td>0.817954</td>\n",
       "      <td>-0.717416</td>\n",
       "      <td>0.079396</td>\n",
       "      <td>0.638020</td>\n",
       "    </tr>\n",
       "    <tr>\n",
       "      <th>sepal_width</th>\n",
       "      <td>-0.109369</td>\n",
       "      <td>1.000000</td>\n",
       "      <td>-0.420516</td>\n",
       "      <td>-0.356544</td>\n",
       "      <td>0.595601</td>\n",
       "      <td>-0.464700</td>\n",
       "      <td>-0.130901</td>\n",
       "    </tr>\n",
       "    <tr>\n",
       "      <th>petal_length</th>\n",
       "      <td>0.871754</td>\n",
       "      <td>-0.420516</td>\n",
       "      <td>1.000000</td>\n",
       "      <td>0.962757</td>\n",
       "      <td>-0.922688</td>\n",
       "      <td>0.201587</td>\n",
       "      <td>0.721102</td>\n",
       "    </tr>\n",
       "    <tr>\n",
       "      <th>petal_width</th>\n",
       "      <td>0.817954</td>\n",
       "      <td>-0.356544</td>\n",
       "      <td>0.962757</td>\n",
       "      <td>1.000000</td>\n",
       "      <td>-0.887510</td>\n",
       "      <td>0.118376</td>\n",
       "      <td>0.769134</td>\n",
       "    </tr>\n",
       "  </tbody>\n",
       "</table>\n",
       "</div>"
      ],
      "text/plain": [
       "              sepal_length  sepal_width  petal_length  petal_width  \\\n",
       "sepal_length      1.000000    -0.109369      0.871754     0.817954   \n",
       "sepal_width      -0.109369     1.000000     -0.420516    -0.356544   \n",
       "petal_length      0.871754    -0.420516      1.000000     0.962757   \n",
       "petal_width       0.817954    -0.356544      0.962757     1.000000   \n",
       "\n",
       "              species_Iris-setosa  species_Iris-versicolor  \\\n",
       "sepal_length            -0.717416                 0.079396   \n",
       "sepal_width              0.595601                -0.464700   \n",
       "petal_length            -0.922688                 0.201587   \n",
       "petal_width             -0.887510                 0.118376   \n",
       "\n",
       "              species_Iris-virginica  \n",
       "sepal_length                0.638020  \n",
       "sepal_width                -0.130901  \n",
       "petal_length                0.721102  \n",
       "petal_width                 0.769134  "
      ]
     },
     "execution_count": 3,
     "metadata": {},
     "output_type": "execute_result"
    }
   ],
   "source": [
    "#making a correlation matrix \n",
    "f=pd.get_dummies(flower, columns=[\"species\"]) #to turn species into binary values\n",
    "f_corr=f.corr()\n",
    "f_corr.iloc[:4,:] #no need to show the last lines"
   ]
  },
  {
   "cell_type": "code",
   "execution_count": 4,
   "id": "967ee907",
   "metadata": {},
   "outputs": [
    {
     "data": {
      "text/html": [
       "<div>\n",
       "<style scoped>\n",
       "    .dataframe tbody tr th:only-of-type {\n",
       "        vertical-align: middle;\n",
       "    }\n",
       "\n",
       "    .dataframe tbody tr th {\n",
       "        vertical-align: top;\n",
       "    }\n",
       "\n",
       "    .dataframe thead th {\n",
       "        text-align: right;\n",
       "    }\n",
       "</style>\n",
       "<table border=\"1\" class=\"dataframe\">\n",
       "  <thead>\n",
       "    <tr style=\"text-align: right;\">\n",
       "      <th></th>\n",
       "      <th>sepal_length</th>\n",
       "      <th>sepal_width</th>\n",
       "      <th>petal_length</th>\n",
       "      <th>petal_width</th>\n",
       "      <th>species</th>\n",
       "    </tr>\n",
       "  </thead>\n",
       "  <tbody>\n",
       "    <tr>\n",
       "      <th>0</th>\n",
       "      <td>5.1</td>\n",
       "      <td>3.5</td>\n",
       "      <td>1.4</td>\n",
       "      <td>0.2</td>\n",
       "      <td>Iris-setosa</td>\n",
       "    </tr>\n",
       "    <tr>\n",
       "      <th>1</th>\n",
       "      <td>4.9</td>\n",
       "      <td>3.0</td>\n",
       "      <td>1.4</td>\n",
       "      <td>0.2</td>\n",
       "      <td>Iris-setosa</td>\n",
       "    </tr>\n",
       "    <tr>\n",
       "      <th>2</th>\n",
       "      <td>4.7</td>\n",
       "      <td>3.2</td>\n",
       "      <td>1.3</td>\n",
       "      <td>0.2</td>\n",
       "      <td>Iris-setosa</td>\n",
       "    </tr>\n",
       "    <tr>\n",
       "      <th>3</th>\n",
       "      <td>4.6</td>\n",
       "      <td>3.1</td>\n",
       "      <td>1.5</td>\n",
       "      <td>0.2</td>\n",
       "      <td>Iris-setosa</td>\n",
       "    </tr>\n",
       "    <tr>\n",
       "      <th>4</th>\n",
       "      <td>5.0</td>\n",
       "      <td>3.6</td>\n",
       "      <td>1.4</td>\n",
       "      <td>0.2</td>\n",
       "      <td>Iris-setosa</td>\n",
       "    </tr>\n",
       "  </tbody>\n",
       "</table>\n",
       "</div>"
      ],
      "text/plain": [
       "   sepal_length  sepal_width  petal_length  petal_width      species\n",
       "0           5.1          3.5           1.4          0.2  Iris-setosa\n",
       "1           4.9          3.0           1.4          0.2  Iris-setosa\n",
       "2           4.7          3.2           1.3          0.2  Iris-setosa\n",
       "3           4.6          3.1           1.5          0.2  Iris-setosa\n",
       "4           5.0          3.6           1.4          0.2  Iris-setosa"
      ]
     },
     "execution_count": 4,
     "metadata": {},
     "output_type": "execute_result"
    }
   ],
   "source": [
    "flower.head(5)"
   ]
  },
  {
   "cell_type": "code",
   "execution_count": 5,
   "id": "715c641a",
   "metadata": {},
   "outputs": [
    {
     "data": {
      "text/plain": [
       "array(['Iris-setosa', 'Iris-versicolor', 'Iris-virginica'], dtype=object)"
      ]
     },
     "execution_count": 5,
     "metadata": {},
     "output_type": "execute_result"
    }
   ],
   "source": [
    "#to see the different values in the species column \n",
    "distinct_species_count = flower['species'].unique()\n",
    "distinct_species_count"
   ]
  },
  {
   "cell_type": "code",
   "execution_count": 6,
   "id": "8f4f894c",
   "metadata": {},
   "outputs": [
    {
     "data": {
      "text/plain": [
       "sepal_length    150\n",
       "sepal_width     150\n",
       "petal_length    150\n",
       "petal_width     150\n",
       "species         150\n",
       "dtype: int64"
      ]
     },
     "execution_count": 6,
     "metadata": {},
     "output_type": "execute_result"
    }
   ],
   "source": [
    "flower.count() #counting the values for each column"
   ]
  },
  {
   "cell_type": "code",
   "execution_count": 7,
   "id": "e44e932e",
   "metadata": {},
   "outputs": [
    {
     "data": {
      "text/plain": [
       "sepal_length    0\n",
       "sepal_width     0\n",
       "petal_length    0\n",
       "petal_width     0\n",
       "species         0\n",
       "dtype: int64"
      ]
     },
     "execution_count": 7,
     "metadata": {},
     "output_type": "execute_result"
    }
   ],
   "source": [
    "flower.isnull().sum() #No missing Data"
   ]
  },
  {
   "cell_type": "code",
   "execution_count": 8,
   "id": "f07e4efb",
   "metadata": {},
   "outputs": [],
   "source": [
    "#splitting the data into X and y \n",
    "X=flower.iloc[:,:4] \n",
    "y=flower.iloc[:,4]"
   ]
  },
  {
   "cell_type": "code",
   "execution_count": 9,
   "id": "fcf932a6",
   "metadata": {},
   "outputs": [
    {
     "data": {
      "text/plain": [
       "0         Iris-setosa\n",
       "1         Iris-setosa\n",
       "2         Iris-setosa\n",
       "3         Iris-setosa\n",
       "4         Iris-setosa\n",
       "            ...      \n",
       "145    Iris-virginica\n",
       "146    Iris-virginica\n",
       "147    Iris-virginica\n",
       "148    Iris-virginica\n",
       "149    Iris-virginica\n",
       "Name: species, Length: 150, dtype: object"
      ]
     },
     "execution_count": 9,
     "metadata": {},
     "output_type": "execute_result"
    }
   ],
   "source": [
    "y"
   ]
  },
  {
   "cell_type": "code",
   "execution_count": 64,
   "id": "55c5019d",
   "metadata": {},
   "outputs": [],
   "source": [
    "Xtrain,Xtest,ytrain,ytest=train_test_split(X,y,test_size=0.25,random_state=3) #Splitting the data "
   ]
  },
  {
   "cell_type": "code",
   "execution_count": 65,
   "id": "cc6ad965",
   "metadata": {},
   "outputs": [
    {
     "data": {
      "text/html": [
       "<style>#sk-container-id-10 {color: black;}#sk-container-id-10 pre{padding: 0;}#sk-container-id-10 div.sk-toggleable {background-color: white;}#sk-container-id-10 label.sk-toggleable__label {cursor: pointer;display: block;width: 100%;margin-bottom: 0;padding: 0.3em;box-sizing: border-box;text-align: center;}#sk-container-id-10 label.sk-toggleable__label-arrow:before {content: \"▸\";float: left;margin-right: 0.25em;color: #696969;}#sk-container-id-10 label.sk-toggleable__label-arrow:hover:before {color: black;}#sk-container-id-10 div.sk-estimator:hover label.sk-toggleable__label-arrow:before {color: black;}#sk-container-id-10 div.sk-toggleable__content {max-height: 0;max-width: 0;overflow: hidden;text-align: left;background-color: #f0f8ff;}#sk-container-id-10 div.sk-toggleable__content pre {margin: 0.2em;color: black;border-radius: 0.25em;background-color: #f0f8ff;}#sk-container-id-10 input.sk-toggleable__control:checked~div.sk-toggleable__content {max-height: 200px;max-width: 100%;overflow: auto;}#sk-container-id-10 input.sk-toggleable__control:checked~label.sk-toggleable__label-arrow:before {content: \"▾\";}#sk-container-id-10 div.sk-estimator input.sk-toggleable__control:checked~label.sk-toggleable__label {background-color: #d4ebff;}#sk-container-id-10 div.sk-label input.sk-toggleable__control:checked~label.sk-toggleable__label {background-color: #d4ebff;}#sk-container-id-10 input.sk-hidden--visually {border: 0;clip: rect(1px 1px 1px 1px);clip: rect(1px, 1px, 1px, 1px);height: 1px;margin: -1px;overflow: hidden;padding: 0;position: absolute;width: 1px;}#sk-container-id-10 div.sk-estimator {font-family: monospace;background-color: #f0f8ff;border: 1px dotted black;border-radius: 0.25em;box-sizing: border-box;margin-bottom: 0.5em;}#sk-container-id-10 div.sk-estimator:hover {background-color: #d4ebff;}#sk-container-id-10 div.sk-parallel-item::after {content: \"\";width: 100%;border-bottom: 1px solid gray;flex-grow: 1;}#sk-container-id-10 div.sk-label:hover label.sk-toggleable__label {background-color: #d4ebff;}#sk-container-id-10 div.sk-serial::before {content: \"\";position: absolute;border-left: 1px solid gray;box-sizing: border-box;top: 0;bottom: 0;left: 50%;z-index: 0;}#sk-container-id-10 div.sk-serial {display: flex;flex-direction: column;align-items: center;background-color: white;padding-right: 0.2em;padding-left: 0.2em;position: relative;}#sk-container-id-10 div.sk-item {position: relative;z-index: 1;}#sk-container-id-10 div.sk-parallel {display: flex;align-items: stretch;justify-content: center;background-color: white;position: relative;}#sk-container-id-10 div.sk-item::before, #sk-container-id-10 div.sk-parallel-item::before {content: \"\";position: absolute;border-left: 1px solid gray;box-sizing: border-box;top: 0;bottom: 0;left: 50%;z-index: -1;}#sk-container-id-10 div.sk-parallel-item {display: flex;flex-direction: column;z-index: 1;position: relative;background-color: white;}#sk-container-id-10 div.sk-parallel-item:first-child::after {align-self: flex-end;width: 50%;}#sk-container-id-10 div.sk-parallel-item:last-child::after {align-self: flex-start;width: 50%;}#sk-container-id-10 div.sk-parallel-item:only-child::after {width: 0;}#sk-container-id-10 div.sk-dashed-wrapped {border: 1px dashed gray;margin: 0 0.4em 0.5em 0.4em;box-sizing: border-box;padding-bottom: 0.4em;background-color: white;}#sk-container-id-10 div.sk-label label {font-family: monospace;font-weight: bold;display: inline-block;line-height: 1.2em;}#sk-container-id-10 div.sk-label-container {text-align: center;}#sk-container-id-10 div.sk-container {/* jupyter's `normalize.less` sets `[hidden] { display: none; }` but bootstrap.min.css set `[hidden] { display: none !important; }` so we also need the `!important` here to be able to override the default hidden behavior on the sphinx rendered scikit-learn.org. See: https://github.com/scikit-learn/scikit-learn/issues/21755 */display: inline-block !important;position: relative;}#sk-container-id-10 div.sk-text-repr-fallback {display: none;}</style><div id=\"sk-container-id-10\" class=\"sk-top-container\"><div class=\"sk-text-repr-fallback\"><pre>RandomForestClassifier()</pre><b>In a Jupyter environment, please rerun this cell to show the HTML representation or trust the notebook. <br />On GitHub, the HTML representation is unable to render, please try loading this page with nbviewer.org.</b></div><div class=\"sk-container\" hidden><div class=\"sk-item\"><div class=\"sk-estimator sk-toggleable\"><input class=\"sk-toggleable__control sk-hidden--visually\" id=\"sk-estimator-id-10\" type=\"checkbox\" checked><label for=\"sk-estimator-id-10\" class=\"sk-toggleable__label sk-toggleable__label-arrow\">RandomForestClassifier</label><div class=\"sk-toggleable__content\"><pre>RandomForestClassifier()</pre></div></div></div></div></div>"
      ],
      "text/plain": [
       "RandomForestClassifier()"
      ]
     },
     "execution_count": 65,
     "metadata": {},
     "output_type": "execute_result"
    }
   ],
   "source": [
    "model=RandomForestClassifier() #Creating the model\n",
    "model.fit(Xtrain,ytrain) #Training the model "
   ]
  },
  {
   "cell_type": "code",
   "execution_count": 66,
   "id": "ebc6e7b5",
   "metadata": {},
   "outputs": [],
   "source": [
    "ypred=model.predict(Xtest) #Using the model"
   ]
  },
  {
   "cell_type": "code",
   "execution_count": 67,
   "id": "89856d31",
   "metadata": {},
   "outputs": [
    {
     "name": "stdout",
     "output_type": "stream",
     "text": [
      "Accuracy: 0.9473684210526315\n"
     ]
    }
   ],
   "source": [
    "accuracy = accuracy_score(ytest, ypred)\n",
    "print(\"Accuracy:\", accuracy)"
   ]
  },
  {
   "cell_type": "code",
   "execution_count": 68,
   "id": "9a561864",
   "metadata": {},
   "outputs": [
    {
     "data": {
      "text/plain": [
       "array([1.        , 1.        , 0.84615385])"
      ]
     },
     "execution_count": 68,
     "metadata": {},
     "output_type": "execute_result"
    }
   ],
   "source": [
    "precision = precision_score(ytest, ypred, average=None)\n",
    "precision"
   ]
  },
  {
   "cell_type": "code",
   "execution_count": 69,
   "id": "281e1758",
   "metadata": {},
   "outputs": [
    {
     "name": "stdout",
     "output_type": "stream",
     "text": [
      "0.9473684210526315\n",
      "[[15  0  0]\n",
      " [ 0 10  2]\n",
      " [ 0  0 11]] ['Iris-setosa' 'Iris-setosa' 'Iris-setosa' 'Iris-setosa' 'Iris-setosa'\n",
      " 'Iris-virginica' 'Iris-versicolor' 'Iris-setosa' 'Iris-virginica'\n",
      " 'Iris-versicolor' 'Iris-versicolor' 'Iris-setosa' 'Iris-versicolor'\n",
      " 'Iris-versicolor' 'Iris-virginica' 'Iris-setosa' 'Iris-virginica'\n",
      " 'Iris-virginica' 'Iris-virginica' 'Iris-setosa' 'Iris-virginica'\n",
      " 'Iris-virginica' 'Iris-virginica' 'Iris-versicolor' 'Iris-setosa'\n",
      " 'Iris-virginica' 'Iris-virginica' 'Iris-versicolor' 'Iris-versicolor'\n",
      " 'Iris-versicolor' 'Iris-setosa' 'Iris-setosa' 'Iris-virginica'\n",
      " 'Iris-versicolor' 'Iris-setosa' 'Iris-setosa' 'Iris-virginica'\n",
      " 'Iris-setosa']\n"
     ]
    },
    {
     "data": {
      "image/png": "[encoded data removed]",
      "text/plain": [
       "<Figure size 640x480 with 2 Axes>"
      ]
     },
     "metadata": {},
     "output_type": "display_data"
    }
   ],
   "source": [
    "model_score=model.score(Xtest,ytest) #Accuracy of the model \n",
    "print(model_score)\n",
    "\n",
    "cf_matrix=metrics.confusion_matrix(ytest,ypred) \n",
    "print(cf_matrix,ypred)\n",
    "\n",
    "labels = ['Iris-setosa', 'Iris-versicolor', 'Iris-virginica']\n",
    "\n",
    "sns.heatmap(cf_matrix, annot=True, fmt='', cmap='Pastel2', xticklabels=labels, yticklabels=labels)\n",
    "plt.xlabel('Predicted')\n",
    "plt.ylabel('Actual')\n",
    "plt.show()"
   ]
  },
  {
   "cell_type": "code",
   "execution_count": 72,
   "id": "470517d8",
   "metadata": {},
   "outputs": [
    {
     "data": {
      "text/plain": [
       "Text(0, 0.5, 'Importance')"
      ]
     },
     "execution_count": 72,
     "metadata": {},
     "output_type": "execute_result"
    },
    {
     "data": {
      "image/png": "[encoded data removed]",
      "text/plain": [
       "<Figure size 640x480 with 1 Axes>"
      ]
     },
     "metadata": {},
     "output_type": "display_data"
    }
   ],
   "source": [
    "# To visualize the importance of each data\n",
    "ax = feature_importances.plot(kind='bar')\n",
    "ax.set_title(\"Feature Importance\")\n",
    "ax.set_xlabel(\"Feature\")\n",
    "ax.set_ylabel(\"Importance\")"
   ]
  },
  {
   "cell_type": "code",
   "execution_count": 16,
   "id": "0e032f89",
   "metadata": {},
   "outputs": [
    {
     "data": {
      "image/svg+xml": [
       "<?xml version=\"1.0\" encoding=\"UTF-8\" standalone=\"no\"?>\n",
       "<!DOCTYPE svg PUBLIC \"-//W3C//DTD SVG 1.1//EN\"\n",
       " \"http://www.w3.org/Graphics/SVG/1.1/DTD/svg11.dtd\">\n",
       "<!-- Generated by graphviz version 9.0.0 (20230911.1827)\n",
       " -->\n",
       "<!-- Title: Tree Pages: 1 -->\n",
       "<svg width=\"673pt\" height=\"311pt\"\n",
       " viewBox=\"0.00 0.00 672.75 311.00\" xmlns=\"http://www.w3.org/2000/svg\" xmlns:xlink=\"http://www.w3.org/1999/xlink\">\n",
       "<g id=\"graph0\" class=\"graph\" transform=\"scale(1 1) rotate(0) translate(4 307)\">\n",
       "<title>Tree</title>\n",
       "<polygon fill=\"white\" stroke=\"none\" points=\"-4,4 -4,-307 668.75,-307 668.75,4 -4,4\"/>\n",
       "<!-- 0 -->\n",
       "<g id=\"node1\" class=\"node\">\n",
       "<title>0</title>\n",
       "<polygon fill=\"#fdf3ed\" stroke=\"black\" points=\"429.5,-303 249.25,-303 249.25,-250 429.5,-250 429.5,-303\"/>\n",
       "<text text-anchor=\"middle\" x=\"339.38\" y=\"-285.7\" font-family=\"Helvetica,sans-Serif\" font-size=\"14.00\">sepal_length &lt;= 6.05</text>\n",
       "<text text-anchor=\"middle\" x=\"339.38\" y=\"-270.7\" font-family=\"Helvetica,sans-Serif\" font-size=\"14.00\">samples = 100.0%</text>\n",
       "<text text-anchor=\"middle\" x=\"339.38\" y=\"-255.7\" font-family=\"Helvetica,sans-Serif\" font-size=\"14.00\">value = [0.393, 0.277, 0.33]</text>\n",
       "</g>\n",
       "<!-- 1 -->\n",
       "<g id=\"node2\" class=\"node\">\n",
       "<title>1</title>\n",
       "<polygon fill=\"#f4cbad\" stroke=\"black\" points=\"332.5,-214 152.25,-214 152.25,-161 332.5,-161 332.5,-214\"/>\n",
       "<text text-anchor=\"middle\" x=\"242.38\" y=\"-196.7\" font-family=\"Helvetica,sans-Serif\" font-size=\"14.00\">petal_length &lt;= 2.45</text>\n",
       "<text text-anchor=\"middle\" x=\"242.38\" y=\"-181.7\" font-family=\"Helvetica,sans-Serif\" font-size=\"14.00\">samples = 60.9%</text>\n",
       "<text text-anchor=\"middle\" x=\"242.38\" y=\"-166.7\" font-family=\"Helvetica,sans-Serif\" font-size=\"14.00\">value = [0.62, 0.352, 0.028]</text>\n",
       "</g>\n",
       "<!-- 0&#45;&gt;1 -->\n",
       "<g id=\"edge1\" class=\"edge\">\n",
       "<title>0&#45;&gt;1</title>\n",
       "<path fill=\"none\" stroke=\"black\" d=\"M310.53,-249.63C300.85,-240.95 289.9,-231.13 279.66,-221.94\"/>\n",
       "<polygon fill=\"black\" stroke=\"black\" points=\"282.18,-219.5 272.4,-215.43 277.51,-224.71 282.18,-219.5\"/>\n",
       "<text text-anchor=\"middle\" x=\"272.63\" y=\"-233.58\" font-family=\"Helvetica,sans-Serif\" font-size=\"14.00\">True</text>\n",
       "</g>\n",
       "<!-- 6 -->\n",
       "<g id=\"node7\" class=\"node\">\n",
       "<title>6</title>\n",
       "<polygon fill=\"#975be9\" stroke=\"black\" points=\"523.75,-214 351,-214 351,-161 523.75,-161 523.75,-214\"/>\n",
       "<text text-anchor=\"middle\" x=\"437.38\" y=\"-196.7\" font-family=\"Helvetica,sans-Serif\" font-size=\"14.00\">petal_length &lt;= 4.75</text>\n",
       "<text text-anchor=\"middle\" x=\"437.38\" y=\"-181.7\" font-family=\"Helvetica,sans-Serif\" font-size=\"14.00\">samples = 39.1%</text>\n",
       "<text text-anchor=\"middle\" x=\"437.38\" y=\"-166.7\" font-family=\"Helvetica,sans-Serif\" font-size=\"14.00\">value = [0.0, 0.146, 0.854]</text>\n",
       "</g>\n",
       "<!-- 0&#45;&gt;6 -->\n",
       "<g id=\"edge6\" class=\"edge\">\n",
       "<title>0&#45;&gt;6</title>\n",
       "<path fill=\"none\" stroke=\"black\" d=\"M368.51,-249.63C378.3,-240.95 389.36,-231.13 399.7,-221.94\"/>\n",
       "<polygon fill=\"black\" stroke=\"black\" points=\"401.89,-224.68 407.05,-215.42 397.25,-219.44 401.89,-224.68\"/>\n",
       "<text text-anchor=\"middle\" x=\"406.7\" y=\"-233.57\" font-family=\"Helvetica,sans-Serif\" font-size=\"14.00\">False</text>\n",
       "</g>\n",
       "<!-- 2 -->\n",
       "<g id=\"node3\" class=\"node\">\n",
       "<title>2</title>\n",
       "<polygon fill=\"#e58139\" stroke=\"black\" points=\"142.75,-117.5 0,-117.5 0,-79.5 142.75,-79.5 142.75,-117.5\"/>\n",
       "<text text-anchor=\"middle\" x=\"71.38\" y=\"-100.2\" font-family=\"Helvetica,sans-Serif\" font-size=\"14.00\">samples = 37.7%</text>\n",
       "<text text-anchor=\"middle\" x=\"71.38\" y=\"-85.2\" font-family=\"Helvetica,sans-Serif\" font-size=\"14.00\">value = [1.0, 0.0, 0.0]</text>\n",
       "</g>\n",
       "<!-- 1&#45;&gt;2 -->\n",
       "<g id=\"edge2\" class=\"edge\">\n",
       "<title>1&#45;&gt;2</title>\n",
       "<path fill=\"none\" stroke=\"black\" d=\"M191.53,-160.63C168.14,-148.73 140.58,-134.71 117.76,-123.1\"/>\n",
       "<polygon fill=\"black\" stroke=\"black\" points=\"119.49,-120.05 108.99,-118.64 116.32,-126.29 119.49,-120.05\"/>\n",
       "</g>\n",
       "<!-- 3 -->\n",
       "<g id=\"node4\" class=\"node\">\n",
       "<title>3</title>\n",
       "<polygon fill=\"#49e78b\" stroke=\"black\" points=\"333.75,-125 161,-125 161,-72 333.75,-72 333.75,-125\"/>\n",
       "<text text-anchor=\"middle\" x=\"247.38\" y=\"-107.7\" font-family=\"Helvetica,sans-Serif\" font-size=\"14.00\">petal_width &lt;= 1.7</text>\n",
       "<text text-anchor=\"middle\" x=\"247.38\" y=\"-92.7\" font-family=\"Helvetica,sans-Serif\" font-size=\"14.00\">samples = 23.2%</text>\n",
       "<text text-anchor=\"middle\" x=\"247.38\" y=\"-77.7\" font-family=\"Helvetica,sans-Serif\" font-size=\"14.00\">value = [0.0, 0.926, 0.074]</text>\n",
       "</g>\n",
       "<!-- 1&#45;&gt;3 -->\n",
       "<g id=\"edge3\" class=\"edge\">\n",
       "<title>1&#45;&gt;3</title>\n",
       "<path fill=\"none\" stroke=\"black\" d=\"M243.85,-160.87C244.29,-153.24 244.78,-144.72 245.25,-136.51\"/>\n",
       "<polygon fill=\"black\" stroke=\"black\" points=\"248.73,-136.95 245.81,-126.76 241.74,-136.54 248.73,-136.95\"/>\n",
       "</g>\n",
       "<!-- 4 -->\n",
       "<g id=\"node5\" class=\"node\">\n",
       "<title>4</title>\n",
       "<polygon fill=\"#c0c0c0\" stroke=\"black\" points=\"238.38,-36 184.38,-36 184.38,0 238.38,0 238.38,-36\"/>\n",
       "<text text-anchor=\"middle\" x=\"211.38\" y=\"-12.2\" font-family=\"Helvetica,sans-Serif\" font-size=\"14.00\">(...)</text>\n",
       "</g>\n",
       "<!-- 3&#45;&gt;4 -->\n",
       "<g id=\"edge4\" class=\"edge\">\n",
       "<title>3&#45;&gt;4</title>\n",
       "<path fill=\"none\" stroke=\"black\" d=\"M235.59,-71.8C231.88,-63.71 227.77,-54.76 224.01,-46.55\"/>\n",
       "<polygon fill=\"black\" stroke=\"black\" points=\"227.3,-45.34 219.95,-37.71 220.94,-48.25 227.3,-45.34\"/>\n",
       "</g>\n",
       "<!-- 5 -->\n",
       "<g id=\"node6\" class=\"node\">\n",
       "<title>5</title>\n",
       "<polygon fill=\"#c0c0c0\" stroke=\"black\" points=\"310.38,-36 256.38,-36 256.38,0 310.38,0 310.38,-36\"/>\n",
       "<text text-anchor=\"middle\" x=\"283.38\" y=\"-12.2\" font-family=\"Helvetica,sans-Serif\" font-size=\"14.00\">(...)</text>\n",
       "</g>\n",
       "<!-- 3&#45;&gt;5 -->\n",
       "<g id=\"edge5\" class=\"edge\">\n",
       "<title>3&#45;&gt;5</title>\n",
       "<path fill=\"none\" stroke=\"black\" d=\"M259.16,-71.8C262.87,-63.71 266.98,-54.76 270.74,-46.55\"/>\n",
       "<polygon fill=\"black\" stroke=\"black\" points=\"273.81,-48.25 274.8,-37.71 267.45,-45.34 273.81,-48.25\"/>\n",
       "</g>\n",
       "<!-- 7 -->\n",
       "<g id=\"node8\" class=\"node\">\n",
       "<title>7</title>\n",
       "<polygon fill=\"#39e581\" stroke=\"black\" points=\"503.75,-117.5 361,-117.5 361,-79.5 503.75,-79.5 503.75,-117.5\"/>\n",
       "<text text-anchor=\"middle\" x=\"432.38\" y=\"-100.2\" font-family=\"Helvetica,sans-Serif\" font-size=\"14.00\">samples = 7.2%</text>\n",
       "<text text-anchor=\"middle\" x=\"432.38\" y=\"-85.2\" font-family=\"Helvetica,sans-Serif\" font-size=\"14.00\">value = [0.0, 1.0, 0.0]</text>\n",
       "</g>\n",
       "<!-- 6&#45;&gt;7 -->\n",
       "<g id=\"edge7\" class=\"edge\">\n",
       "<title>6&#45;&gt;7</title>\n",
       "<path fill=\"none\" stroke=\"black\" d=\"M435.9,-160.87C435.33,-150.92 434.67,-139.47 434.08,-129.18\"/>\n",
       "<polygon fill=\"black\" stroke=\"black\" points=\"437.58,-129.07 433.51,-119.29 430.59,-129.47 437.58,-129.07\"/>\n",
       "</g>\n",
       "<!-- 8 -->\n",
       "<g id=\"node9\" class=\"node\">\n",
       "<title>8</title>\n",
       "<polygon fill=\"#8139e5\" stroke=\"black\" points=\"664.75,-117.5 522,-117.5 522,-79.5 664.75,-79.5 664.75,-117.5\"/>\n",
       "<text text-anchor=\"middle\" x=\"593.38\" y=\"-100.2\" font-family=\"Helvetica,sans-Serif\" font-size=\"14.00\">samples = 31.9%</text>\n",
       "<text text-anchor=\"middle\" x=\"593.38\" y=\"-85.2\" font-family=\"Helvetica,sans-Serif\" font-size=\"14.00\">value = [0.0, 0.0, 1.0]</text>\n",
       "</g>\n",
       "<!-- 6&#45;&gt;8 -->\n",
       "<g id=\"edge8\" class=\"edge\">\n",
       "<title>6&#45;&gt;8</title>\n",
       "<path fill=\"none\" stroke=\"black\" d=\"M483.76,-160.63C504.91,-148.84 529.79,-134.96 550.49,-123.41\"/>\n",
       "<polygon fill=\"black\" stroke=\"black\" points=\"551.94,-126.62 558.97,-118.69 548.53,-120.5 551.94,-126.62\"/>\n",
       "</g>\n",
       "</g>\n",
       "</svg>\n"
      ],
      "text/plain": [
       "<graphviz.sources.Source at 0x7fc62fd2d9a0>"
      ]
     },
     "metadata": {},
     "output_type": "display_data"
    },
    {
     "data": {
      "image/svg+xml": [
       "<?xml version=\"1.0\" encoding=\"UTF-8\" standalone=\"no\"?>\n",
       "<!DOCTYPE svg PUBLIC \"-//W3C//DTD SVG 1.1//EN\"\n",
       " \"http://www.w3.org/Graphics/SVG/1.1/DTD/svg11.dtd\">\n",
       "<!-- Generated by graphviz version 9.0.0 (20230911.1827)\n",
       " -->\n",
       "<!-- Title: Tree Pages: 1 -->\n",
       "<svg width=\"430pt\" height=\"311pt\"\n",
       " viewBox=\"0.00 0.00 429.75 311.00\" xmlns=\"http://www.w3.org/2000/svg\" xmlns:xlink=\"http://www.w3.org/1999/xlink\">\n",
       "<g id=\"graph0\" class=\"graph\" transform=\"scale(1 1) rotate(0) translate(4 307)\">\n",
       "<title>Tree</title>\n",
       "<polygon fill=\"white\" stroke=\"none\" points=\"-4,4 -4,-307 425.75,-307 425.75,4 -4,4\"/>\n",
       "<!-- 0 -->\n",
       "<g id=\"node1\" class=\"node\">\n",
       "<title>0</title>\n",
       "<polygon fill=\"#fefbf9\" stroke=\"black\" points=\"253.25,-303 65.5,-303 65.5,-250 253.25,-250 253.25,-303\"/>\n",
       "<text text-anchor=\"middle\" x=\"159.38\" y=\"-285.7\" font-family=\"Helvetica,sans-Serif\" font-size=\"14.00\">petal_length &lt;= 2.45</text>\n",
       "<text text-anchor=\"middle\" x=\"159.38\" y=\"-270.7\" font-family=\"Helvetica,sans-Serif\" font-size=\"14.00\">samples = 100.0%</text>\n",
       "<text text-anchor=\"middle\" x=\"159.38\" y=\"-255.7\" font-family=\"Helvetica,sans-Serif\" font-size=\"14.00\">value = [0.393, 0.375, 0.232]</text>\n",
       "</g>\n",
       "<!-- 1 -->\n",
       "<g id=\"node2\" class=\"node\">\n",
       "<title>1</title>\n",
       "<polygon fill=\"#e58139\" stroke=\"black\" points=\"142.75,-206.5 0,-206.5 0,-168.5 142.75,-168.5 142.75,-206.5\"/>\n",
       "<text text-anchor=\"middle\" x=\"71.38\" y=\"-189.2\" font-family=\"Helvetica,sans-Serif\" font-size=\"14.00\">samples = 38.0%</text>\n",
       "<text text-anchor=\"middle\" x=\"71.38\" y=\"-174.2\" font-family=\"Helvetica,sans-Serif\" font-size=\"14.00\">value = [1.0, 0.0, 0.0]</text>\n",
       "</g>\n",
       "<!-- 0&#45;&gt;1 -->\n",
       "<g id=\"edge1\" class=\"edge\">\n",
       "<title>0&#45;&gt;1</title>\n",
       "<path fill=\"none\" stroke=\"black\" d=\"M133.45,-249.87C122.3,-238.84 109.27,-225.97 98.04,-214.86\"/>\n",
       "<polygon fill=\"black\" stroke=\"black\" points=\"100.51,-212.38 90.94,-207.84 95.59,-217.36 100.51,-212.38\"/>\n",
       "<text text-anchor=\"middle\" x=\"90.01\" y=\"-225.98\" font-family=\"Helvetica,sans-Serif\" font-size=\"14.00\">True</text>\n",
       "</g>\n",
       "<!-- 2 -->\n",
       "<g id=\"node3\" class=\"node\">\n",
       "<title>2</title>\n",
       "<polygon fill=\"#b4f5cf\" stroke=\"black\" points=\"333.75,-214 161,-214 161,-161 333.75,-161 333.75,-214\"/>\n",
       "<text text-anchor=\"middle\" x=\"247.38\" y=\"-196.7\" font-family=\"Helvetica,sans-Serif\" font-size=\"14.00\">sepal_length &lt;= 6.15</text>\n",
       "<text text-anchor=\"middle\" x=\"247.38\" y=\"-181.7\" font-family=\"Helvetica,sans-Serif\" font-size=\"14.00\">samples = 62.0%</text>\n",
       "<text text-anchor=\"middle\" x=\"247.38\" y=\"-166.7\" font-family=\"Helvetica,sans-Serif\" font-size=\"14.00\">value = [0.0, 0.618, 0.382]</text>\n",
       "</g>\n",
       "<!-- 0&#45;&gt;2 -->\n",
       "<g id=\"edge2\" class=\"edge\">\n",
       "<title>0&#45;&gt;2</title>\n",
       "<path fill=\"none\" stroke=\"black\" d=\"M185.3,-249.87C194.09,-241.18 204.03,-231.35 213.35,-222.14\"/>\n",
       "<polygon fill=\"black\" stroke=\"black\" points=\"215.6,-224.83 220.25,-215.31 210.68,-219.86 215.6,-224.83\"/>\n",
       "<text text-anchor=\"middle\" x=\"221.19\" y=\"-233.45\" font-family=\"Helvetica,sans-Serif\" font-size=\"14.00\">False</text>\n",
       "</g>\n",
       "<!-- 3 -->\n",
       "<g id=\"node4\" class=\"node\">\n",
       "<title>3</title>\n",
       "<polygon fill=\"#4fe88f\" stroke=\"black\" points=\"230.75,-125 88,-125 88,-72 230.75,-72 230.75,-125\"/>\n",
       "<text text-anchor=\"middle\" x=\"159.38\" y=\"-107.7\" font-family=\"Helvetica,sans-Serif\" font-size=\"14.00\">petal_length &lt;= 4.8</text>\n",
       "<text text-anchor=\"middle\" x=\"159.38\" y=\"-92.7\" font-family=\"Helvetica,sans-Serif\" font-size=\"14.00\">samples = 26.8%</text>\n",
       "<text text-anchor=\"middle\" x=\"159.38\" y=\"-77.7\" font-family=\"Helvetica,sans-Serif\" font-size=\"14.00\">value = [0.0, 0.9, 0.1]</text>\n",
       "</g>\n",
       "<!-- 2&#45;&gt;3 -->\n",
       "<g id=\"edge3\" class=\"edge\">\n",
       "<title>2&#45;&gt;3</title>\n",
       "<path fill=\"none\" stroke=\"black\" d=\"M221.45,-160.87C212.66,-152.18 202.72,-142.35 193.4,-133.14\"/>\n",
       "<polygon fill=\"black\" stroke=\"black\" points=\"196.07,-130.86 186.5,-126.31 191.15,-135.83 196.07,-130.86\"/>\n",
       "</g>\n",
       "<!-- 6 -->\n",
       "<g id=\"node7\" class=\"node\">\n",
       "<title>6</title>\n",
       "<polygon fill=\"#d3baf6\" stroke=\"black\" points=\"421.75,-125 249,-125 249,-72 421.75,-72 421.75,-125\"/>\n",
       "<text text-anchor=\"middle\" x=\"335.38\" y=\"-107.7\" font-family=\"Helvetica,sans-Serif\" font-size=\"14.00\">petal_length &lt;= 5.0</text>\n",
       "<text text-anchor=\"middle\" x=\"335.38\" y=\"-92.7\" font-family=\"Helvetica,sans-Serif\" font-size=\"14.00\">samples = 35.2%</text>\n",
       "<text text-anchor=\"middle\" x=\"335.38\" y=\"-77.7\" font-family=\"Helvetica,sans-Serif\" font-size=\"14.00\">value = [0.0, 0.395, 0.605]</text>\n",
       "</g>\n",
       "<!-- 2&#45;&gt;6 -->\n",
       "<g id=\"edge6\" class=\"edge\">\n",
       "<title>2&#45;&gt;6</title>\n",
       "<path fill=\"none\" stroke=\"black\" d=\"M273.3,-160.87C282.09,-152.18 292.03,-142.35 301.35,-133.14\"/>\n",
       "<polygon fill=\"black\" stroke=\"black\" points=\"303.6,-135.83 308.25,-126.31 298.68,-130.86 303.6,-135.83\"/>\n",
       "</g>\n",
       "<!-- 4 -->\n",
       "<g id=\"node5\" class=\"node\">\n",
       "<title>4</title>\n",
       "<polygon fill=\"#c0c0c0\" stroke=\"black\" points=\"166.38,-36 112.38,-36 112.38,0 166.38,0 166.38,-36\"/>\n",
       "<text text-anchor=\"middle\" x=\"139.38\" y=\"-12.2\" font-family=\"Helvetica,sans-Serif\" font-size=\"14.00\">(...)</text>\n",
       "</g>\n",
       "<!-- 3&#45;&gt;4 -->\n",
       "<g id=\"edge4\" class=\"edge\">\n",
       "<title>3&#45;&gt;4</title>\n",
       "<path fill=\"none\" stroke=\"black\" d=\"M152.83,-71.8C150.84,-63.99 148.64,-55.36 146.61,-47.38\"/>\n",
       "<polygon fill=\"black\" stroke=\"black\" points=\"150.02,-46.62 144.16,-37.8 143.24,-48.35 150.02,-46.62\"/>\n",
       "</g>\n",
       "<!-- 5 -->\n",
       "<g id=\"node6\" class=\"node\">\n",
       "<title>5</title>\n",
       "<polygon fill=\"#c0c0c0\" stroke=\"black\" points=\"238.38,-36 184.38,-36 184.38,0 238.38,0 238.38,-36\"/>\n",
       "<text text-anchor=\"middle\" x=\"211.38\" y=\"-12.2\" font-family=\"Helvetica,sans-Serif\" font-size=\"14.00\">(...)</text>\n",
       "</g>\n",
       "<!-- 3&#45;&gt;5 -->\n",
       "<g id=\"edge5\" class=\"edge\">\n",
       "<title>3&#45;&gt;5</title>\n",
       "<path fill=\"none\" stroke=\"black\" d=\"M176.4,-71.8C181.94,-63.44 188.09,-54.15 193.67,-45.72\"/>\n",
       "<polygon fill=\"black\" stroke=\"black\" points=\"196.45,-47.86 199.06,-37.59 190.62,-44 196.45,-47.86\"/>\n",
       "</g>\n",
       "<!-- 7 -->\n",
       "<g id=\"node8\" class=\"node\">\n",
       "<title>7</title>\n",
       "<polygon fill=\"#c0c0c0\" stroke=\"black\" points=\"336.38,-36 282.38,-36 282.38,0 336.38,0 336.38,-36\"/>\n",
       "<text text-anchor=\"middle\" x=\"309.38\" y=\"-12.2\" font-family=\"Helvetica,sans-Serif\" font-size=\"14.00\">(...)</text>\n",
       "</g>\n",
       "<!-- 6&#45;&gt;7 -->\n",
       "<g id=\"edge7\" class=\"edge\">\n",
       "<title>6&#45;&gt;7</title>\n",
       "<path fill=\"none\" stroke=\"black\" d=\"M326.86,-71.8C324.24,-63.89 321.35,-55.16 318.68,-47.1\"/>\n",
       "<polygon fill=\"black\" stroke=\"black\" points=\"322.06,-46.16 315.59,-37.77 315.41,-48.36 322.06,-46.16\"/>\n",
       "</g>\n",
       "<!-- 14 -->\n",
       "<g id=\"node9\" class=\"node\">\n",
       "<title>14</title>\n",
       "<polygon fill=\"#c0c0c0\" stroke=\"black\" points=\"408.38,-36 354.38,-36 354.38,0 408.38,0 408.38,-36\"/>\n",
       "<text text-anchor=\"middle\" x=\"381.38\" y=\"-12.2\" font-family=\"Helvetica,sans-Serif\" font-size=\"14.00\">(...)</text>\n",
       "</g>\n",
       "<!-- 6&#45;&gt;14 -->\n",
       "<g id=\"edge8\" class=\"edge\">\n",
       "<title>6&#45;&gt;14</title>\n",
       "<path fill=\"none\" stroke=\"black\" d=\"M350.44,-71.8C355.28,-63.53 360.66,-54.35 365.56,-46\"/>\n",
       "<polygon fill=\"black\" stroke=\"black\" points=\"368.42,-48.03 370.45,-37.64 362.38,-44.49 368.42,-48.03\"/>\n",
       "</g>\n",
       "</g>\n",
       "</svg>\n"
      ],
      "text/plain": [
       "<graphviz.sources.Source at 0x7fc62f73da00>"
      ]
     },
     "metadata": {},
     "output_type": "display_data"
    }
   ],
   "source": [
    "#Visualise the first 2 decision trees \n",
    "\n",
    "for i in range(2):\n",
    "    tree = model.estimators_[i]\n",
    "    dot_data = export_graphviz(tree,\n",
    "                               feature_names=Xtrain.columns,  \n",
    "                               filled=True,  \n",
    "                               max_depth=2, \n",
    "                               impurity=False, \n",
    "                               proportion=True)\n",
    "    graph = graphviz.Source(dot_data)\n",
    "    display(graph)"
   ]
  },
  {
   "cell_type": "code",
   "execution_count": 73,
   "id": "cf0f1886",
   "metadata": {},
   "outputs": [
    {
     "data": {
      "text/plain": [
       "['model_flower.joblib']"
      ]
     },
     "execution_count": 73,
     "metadata": {},
     "output_type": "execute_result"
    }
   ],
   "source": [
    "#Saving the model\n",
    "\n",
    "from joblib import dump\n",
    "dump(model, 'model_flower.joblib')"
   ]
  }
 ],
 "metadata": {
  "kernelspec": {
   "display_name": "Python 3 (ipykernel)",
   "language": "python",
   "name": "python3"
  },
  "language_info": {
   "codemirror_mode": {
    "name": "ipython",
    "version": 3
   },
   "file_extension": ".py",
   "mimetype": "text/x-python",
   "name": "python",
   "nbconvert_exporter": "python",
   "pygments_lexer": "ipython3",
   "version": "3.9.13"
  }
 },
 "nbformat": 4,
 "nbformat_minor": 5
}
